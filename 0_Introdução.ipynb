{
  "nbformat": 4,
  "nbformat_minor": 0,
  "metadata": {
    "colab": {
      "name": "semana-0_h2ia.ipynb",
      "provenance": [],
      "collapsed_sections": [],
      "include_colab_link": true
    },
    "kernelspec": {
      "name": "python3",
      "display_name": "Python 3"
    },
    "language_info": {
      "name": "python"
    }
  },
  "cells": [
    {
      "cell_type": "markdown",
      "metadata": {
        "id": "view-in-github",
        "colab_type": "text"
      },
      "source": [
        "<a href=\"https://colab.research.google.com/github/franconoronha/treinamento-h2ia/blob/main/0_Introdu%C3%A7%C3%A3o.ipynb\" target=\"_parent\"><img src=\"https://colab.research.google.com/assets/colab-badge.svg\" alt=\"Open In Colab\"/></a>"
      ]
    },
    {
      "cell_type": "markdown",
      "source": [
        "### **Numpy**"
      ],
      "metadata": {
        "id": "QxfnKU5QLhnr"
      }
    },
    {
      "cell_type": "markdown",
      "source": [
        "Biblioteca para computação científica em Python. Provém objetos que representam arrays multidimensionais com seus próprios métodos."
      ],
      "metadata": {
        "id": "ZNa1qvdHQWLu"
      }
    },
    {
      "cell_type": "code",
      "source": [
        "import numpy as np"
      ],
      "metadata": {
        "id": "Mq5LazkeTiDY"
      },
      "execution_count": null,
      "outputs": []
    },
    {
      "cell_type": "markdown",
      "source": [
        "Algumas manipulações básicas de arrays:"
      ],
      "metadata": {
        "id": "zwLCb6qMX9l1"
      }
    },
    {
      "cell_type": "code",
      "source": [
        "# Podemos criar um array fornecendo uma lista para o método array\n",
        "a = np.array([[1,2,3], [4,5,6]])\n",
        "print(a)\n",
        "\n",
        "# Acessar seus elementos com tuplas de números inteiros\n",
        "print(a[0, 2])\n",
        "\n",
        "# Verificar seu formato (tupla com o tamanho de suas dimensões)\n",
        "print(a.shape)"
      ],
      "metadata": {
        "colab": {
          "base_uri": "https://localhost:8080/"
        },
        "id": "QYvsbXpRYDD1",
        "outputId": "d1aed585-1b3b-4307-8932-bd0723899b74"
      },
      "execution_count": null,
      "outputs": [
        {
          "output_type": "stream",
          "name": "stdout",
          "text": [
            "[[1 2 3]\n",
            " [4 5 6]]\n",
            "3\n",
            "(2, 3)\n"
          ]
        }
      ]
    },
    {
      "cell_type": "code",
      "source": [
        "# Criar arrays com características específicas\n",
        "z = np.zeros((2,2)) # Cria um array de formato (2,2) com 0's\n",
        "print(z)\n",
        "\n",
        "i = np.eye(3)       # Cria uma matriz identidade de formato (3,3)\n",
        "print(i)"
      ],
      "metadata": {
        "colab": {
          "base_uri": "https://localhost:8080/"
        },
        "id": "Uyl8xi7FgisS",
        "outputId": "d878b976-0e65-424f-a185-694b6150d08f"
      },
      "execution_count": null,
      "outputs": [
        {
          "output_type": "stream",
          "name": "stdout",
          "text": [
            "[[0. 0.]\n",
            " [0. 0.]]\n",
            "[[1. 0. 0.]\n",
            " [0. 1. 0.]\n",
            " [0. 0. 1.]]\n"
          ]
        }
      ]
    },
    {
      "cell_type": "markdown",
      "source": [
        "# Indexamento"
      ],
      "metadata": {
        "id": "qwFaxcsJhPdC"
      }
    },
    {
      "cell_type": "markdown",
      "source": [
        "Apenas um comentário que o tutorial diz que os arrays do numpy são indexados por tuplas de números inteiros não-negativos (\"...and is indexed by a tuple of nonnegative integers\"), porém pelo que eu tentei dá para indexar por números negativos como nas listas do python."
      ],
      "metadata": {
        "id": "CSw0xVDyIIX1"
      }
    },
    {
      "cell_type": "code",
      "source": [
        "# Índice do primeiro elemento da direita para esquerda da primeira linha\n",
        "print(a[0,-1]) "
      ],
      "metadata": {
        "colab": {
          "base_uri": "https://localhost:8080/"
        },
        "id": "wZ6CR7bqHyT0",
        "outputId": "67ff3fc6-94ab-469b-e4e3-0d4a14b5389c"
      },
      "execution_count": null,
      "outputs": [
        {
          "output_type": "stream",
          "name": "stdout",
          "text": [
            "3\n"
          ]
        }
      ]
    },
    {
      "cell_type": "markdown",
      "source": [
        "**Indexamento por partições**\n",
        "\n",
        "Podemos criar partições de arrays como nas listas do python, porém no numpy as partições funcionam como uma visualização do array original, logo alterar seus elementos altera também as suas respectivas posições no array original."
      ],
      "metadata": {
        "id": "6mZIcPcyG_nD"
      }
    },
    {
      "cell_type": "code",
      "source": [
        "p = a[1:2, :2] # Cria uma partição de formato (1,2)\n",
        "# A notação de : é a mesma das listas do python\n",
        "print(p)\n",
        "p[0,0] = 0\n",
        "print(a)"
      ],
      "metadata": {
        "colab": {
          "base_uri": "https://localhost:8080/"
        },
        "id": "Tl6kaosxthBo",
        "outputId": "f0fb7861-f4c9-4771-ba00-6823337e1f6f"
      },
      "execution_count": null,
      "outputs": [
        {
          "output_type": "stream",
          "name": "stdout",
          "text": [
            "[[4 5]]\n",
            "[[1 2 3]\n",
            " [0 5 6]]\n"
          ]
        }
      ]
    },
    {
      "cell_type": "code",
      "source": [
        "p2 = a[0,:] # Uma partição criada com um número inteiro, tem menos dimensões que o array original\n",
        "print(p2.shape)\n",
        "print(p2)   # Nesse caso a partição é um array unidimensional da primeira linha do original"
      ],
      "metadata": {
        "colab": {
          "base_uri": "https://localhost:8080/"
        },
        "id": "W3G3mqrQAm24",
        "outputId": "17a62363-9a3a-4686-e0d3-376c2664e9e7"
      },
      "execution_count": null,
      "outputs": [
        {
          "output_type": "stream",
          "name": "stdout",
          "text": [
            "(3,)\n",
            "[1 2 3]\n"
          ]
        }
      ]
    },
    {
      "cell_type": "markdown",
      "source": [
        "**Indexamento por arrays de inteiros**"
      ],
      "metadata": {
        "id": "q8I-hLztFnNH"
      }
    },
    {
      "cell_type": "code",
      "source": [
        "# Podemos selecionar multiplos valores formados por pares de elementos de 2 arrays do mesmo tamanho\n",
        "a[[0,1,0], [0,1,2]] += 1 # Produz os pares [0,0] [1,1] [0,2] e aplica a operação sobre eles\n",
        "\n",
        "p3 = a[[0,1,0], [0,1,2]] # Porém ao atribuirmos o array produzido por essa seleção a uma variável...\n",
        "print(p3) # Esse array não tem conexão com o array original\n",
        "p3[0] = 2 # Alterar seus elementos não modifica o original\n",
        "\n",
        "# Bem, atribuindo não tem, mas dá pra usar essa seleção para modificar esses elementos especificos\n",
        "# a[[0,1,0], [0,1,2]] += 1\n",
        "\n",
        "print(a)"
      ],
      "metadata": {
        "colab": {
          "base_uri": "https://localhost:8080/"
        },
        "id": "gBtFgMTSFvFU",
        "outputId": "b667e6ff-cade-4d9f-f862-2ce288aa19d7"
      },
      "execution_count": null,
      "outputs": [
        {
          "output_type": "stream",
          "name": "stdout",
          "text": [
            "[2 6 4]\n",
            "[[2 2 4]\n",
            " [0 6 6]]\n"
          ]
        }
      ]
    },
    {
      "cell_type": "markdown",
      "source": [
        "**Indexamento booleano**\n",
        "\n",
        "Utiliza um array booleano de mesmo formato para filtrar os elementos que satisfazem uma condição."
      ],
      "metadata": {
        "id": "dThJEJIJJj0o"
      }
    },
    {
      "cell_type": "code",
      "source": [
        "bool_array = (a < 3) # Cria um array booleano fazendo a comparação a cada elemento \n",
        "print(bool_array)\n",
        "print(a[bool_array]) # Seleciona os elementos que tem True em sua posição correspondente"
      ],
      "metadata": {
        "colab": {
          "base_uri": "https://localhost:8080/"
        },
        "id": "iH1FdbH3Krt6",
        "outputId": "c5f2e89d-572d-49a2-b5d5-63315f83442d"
      },
      "execution_count": null,
      "outputs": [
        {
          "output_type": "stream",
          "name": "stdout",
          "text": [
            "[[ True  True False]\n",
            " [ True False False]]\n",
            "[[11 12  3]\n",
            " [10  5  6]]\n"
          ]
        }
      ]
    },
    {
      "cell_type": "markdown",
      "source": [
        "# **Tipos de dados**\n",
        "\n",
        "Os arrays do numpy são tipados dinamicamente por padrão, porém podemos forçar seus tipos pelo parâmetro dtype."
      ],
      "metadata": {
        "id": "gaIlLCyHOO3M"
      }
    },
    {
      "cell_type": "code",
      "source": [
        "array_d = np.array([1,2,\"a\"]) # Array tipado dinamicamente para suportar os elementos\n",
        "print(array_d.dtype)\n",
        " \n",
        "array_32 = np.array([1,2,3], dtype=np.int32) # Array tipado manualmente\n",
        "# Declarar com um elemento string resultaria em um erro\n",
        "print(array_32.dtype)"
      ],
      "metadata": {
        "colab": {
          "base_uri": "https://localhost:8080/"
        },
        "id": "_BSv2IygOlCc",
        "outputId": "b52e0a58-d475-498f-dcf1-3cc788e907ed"
      },
      "execution_count": null,
      "outputs": [
        {
          "output_type": "stream",
          "name": "stdout",
          "text": [
            "<U21\n",
            "int32\n"
          ]
        }
      ]
    },
    {
      "cell_type": "markdown",
      "source": [
        "# **Operações com arrays**\n",
        "\n",
        "Podemos realizar operações básicas sobre cada elemento do array, utilizando os operadores comuns ou métodos do numpy"
      ],
      "metadata": {
        "id": "QnQAZbs7QR-H"
      }
    },
    {
      "cell_type": "code",
      "source": [
        "b = [[5,10,15], [15,10,5]]\n",
        "print(a + b)\n",
        "print(np.add(a, b))\n",
        "a += b\n",
        "print(a)\n",
        "\n",
        "print(a * 2) # Podemos também realizar operações entre cada elemento do array e um valor"
      ],
      "metadata": {
        "colab": {
          "base_uri": "https://localhost:8080/"
        },
        "id": "JQKX0qmwQ-4v",
        "outputId": "59fbb101-1f9b-4880-fdb9-579e9ec17d2b"
      },
      "execution_count": null,
      "outputs": [
        {
          "output_type": "stream",
          "name": "stdout",
          "text": [
            "[[ 45  72 109]\n",
            " [ 95  76  51]]\n",
            "[[ 45  72 109]\n",
            " [ 95  76  51]]\n",
            "[[ 45  72 109]\n",
            " [ 95  76  51]]\n",
            "[[ 90 144 218]\n",
            " [190 152 102]]\n"
          ]
        }
      ]
    },
    {
      "cell_type": "markdown",
      "source": [
        "Nesse caso o operador * funciona como multiplicação de elementos e não de matrizes. Para realizar essas operações utiliza-se o operador @ ou o método dot.\n",
        "\n",
        "O numpy consta também com diversas funções que operam sobre o array."
      ],
      "metadata": {
        "id": "g1xQoKLWV42z"
      }
    },
    {
      "cell_type": "code",
      "source": [
        "print(np.maximum(a,b))  # Retorna o maior de cada posição entre os 2 arrays\n",
        "print(np.log(b))        # Logaritmo natural de cada elemento do array\n",
        "print(a.T)              # Matriz transposta\n",
        "# etc...."
      ],
      "metadata": {
        "colab": {
          "base_uri": "https://localhost:8080/"
        },
        "id": "vlKlL1VKbvDx",
        "outputId": "8c58bb3d-3e31-4af0-842d-2d8dea8d8ea8"
      },
      "execution_count": null,
      "outputs": [
        {
          "output_type": "stream",
          "name": "stdout",
          "text": [
            "[[ 45  72 109]\n",
            " [ 95  76  51]]\n",
            "[[1.60943791 2.30258509 2.7080502 ]\n",
            " [2.7080502  2.30258509 1.60943791]]\n",
            "[[ 45  95]\n",
            " [ 72  76]\n",
            " [109  51]]\n"
          ]
        }
      ]
    },
    {
      "cell_type": "markdown",
      "source": [
        "# **Broadcasting**"
      ],
      "metadata": {
        "id": "WvLusKUMd8OJ"
      }
    },
    {
      "cell_type": "markdown",
      "source": [
        "Broadcasting se refere a como o Numpy lida com arrays de formatos diferentes. Nesse caso a dimensão menor será repetida através da dimensão maior.\n",
        "\n"
      ],
      "metadata": {
        "id": "Kg5G-6h22HMG"
      }
    },
    {
      "cell_type": "code",
      "source": [
        "br1 = np.array([[10,20,30], [40,50,60]])\n",
        "br2 = np.array((1,2,3))\n",
        "\n",
        "print(br1.shape, br2.shape)\n",
        "print(br1 * br2)\n",
        "# O array [1,2,3] foi repetido em sua menor dimensão 3x1\n",
        "# Para um array (2,3) [[1,2,3], [1,2,3]]"
      ],
      "metadata": {
        "colab": {
          "base_uri": "https://localhost:8080/"
        },
        "id": "P9rQ0ywg8WVw",
        "outputId": "d4fdea55-485a-4d01-cc6d-960b5f8c9ae9"
      },
      "execution_count": null,
      "outputs": [
        {
          "output_type": "stream",
          "name": "stdout",
          "text": [
            "(2, 3) (3,)\n",
            "[[ 10  40  90]\n",
            " [ 40 100 180]]\n"
          ]
        }
      ]
    },
    {
      "cell_type": "markdown",
      "source": [
        "# **Matplotlib** \n",
        "\n",
        "Biblioteca para criação de gráficos variados."
      ],
      "metadata": {
        "id": "IA53d7zvQ-eb"
      }
    },
    {
      "cell_type": "code",
      "source": [
        "import matplotlib.pyplot as plt\n",
        "%matplotlib inline\n",
        "\n",
        "x = np.arange(1, 10)\n",
        "y = np.log2(x)\n",
        "\n",
        "plt.xlabel(\"x\")\n",
        "plt.ylabel(\"y\")\n",
        "plt.title(\"y = log x\")\n",
        "plt.plot(x,y, marker=\"X\")\n",
        "#plt.fill_between(x, y, 0, facecolor='g', alpha=0.7)"
      ],
      "metadata": {
        "colab": {
          "base_uri": "https://localhost:8080/",
          "height": 312
        },
        "id": "HybfxN6GRPIl",
        "outputId": "db42643b-ba8f-4e7c-8320-eccf35afb3aa"
      },
      "execution_count": null,
      "outputs": [
        {
          "output_type": "execute_result",
          "data": {
            "text/plain": [
              "[<matplotlib.lines.Line2D at 0x7fe2b88b0e10>]"
            ]
          },
          "metadata": {},
          "execution_count": 19
        },
        {
          "output_type": "display_data",
          "data": {
            "text/plain": [
              "<Figure size 432x288 with 1 Axes>"
            ],
            "image/png": "[encoded data removed]"
          },
          "metadata": {
            "needs_background": "light"
          }
        }
      ]
    },
    {
      "cell_type": "code",
      "source": [
        "x1 = np.arange(0,100,5)\n",
        "y1 = np.random.randint(100, size=x1.shape)\n",
        "\n",
        "plt.scatter(x1,y1, color=\"red\")"
      ],
      "metadata": {
        "colab": {
          "base_uri": "https://localhost:8080/",
          "height": 282
        },
        "id": "fSWm_S2QhjBO",
        "outputId": "d82d0433-91f8-4bb1-8345-00b3725d9cf9"
      },
      "execution_count": null,
      "outputs": [
        {
          "output_type": "execute_result",
          "data": {
            "text/plain": [
              "<matplotlib.collections.PathCollection at 0x7fae5000cad0>"
            ]
          },
          "metadata": {},
          "execution_count": 153
        },
        {
          "output_type": "display_data",
          "data": {
            "text/plain": [
              "<Figure size 432x288 with 1 Axes>"
            ],
            "image/png": "[encoded data removed]"
          },
          "metadata": {
            "needs_background": "light"
          }
        }
      ]
    },
    {
      "cell_type": "code",
      "source": [
        "y2 = np.exp2(x)\n",
        "\n",
        "plt.subplot(1,2,1) # grid de tamanho 1x2, gráfico a ser definido a seguir é o primeiro\n",
        "plt.plot(x,y)\n",
        "\n",
        "plt.subplot(1,2,2) # segundo\n",
        "plt.plot(x,y2)\n",
        "\n",
        "#plt.show() é chamado por padrão no colab pelo jeito"
      ],
      "metadata": {
        "colab": {
          "base_uri": "https://localhost:8080/",
          "height": 282
        },
        "id": "bK4l9keYm5kI",
        "outputId": "6a207252-42c2-4577-c274-44fbcccdefb7"
      },
      "execution_count": null,
      "outputs": [
        {
          "output_type": "execute_result",
          "data": {
            "text/plain": [
              "[<matplotlib.lines.Line2D at 0x7fae50509ed0>]"
            ]
          },
          "metadata": {},
          "execution_count": 148
        },
        {
          "output_type": "display_data",
          "data": {
            "text/plain": [
              "<Figure size 432x288 with 2 Axes>"
            ],
            "image/png": "[encoded data removed]"
          },
          "metadata": {
            "needs_background": "light"
          }
        }
      ]
    }
  ]
}