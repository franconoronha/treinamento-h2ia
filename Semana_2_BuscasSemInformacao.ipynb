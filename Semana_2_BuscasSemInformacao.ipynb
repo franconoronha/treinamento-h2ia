{
  "nbformat": 4,
  "nbformat_minor": 0,
  "metadata": {
    "colab": {
      "name": "Semana_2_BuscasSemInformacao.ipynb",
      "provenance": [],
      "include_colab_link": true
    },
    "kernelspec": {
      "name": "python3",
      "display_name": "Python 3"
    },
    "language_info": {
      "name": "python"
    }
  },
  "cells": [
    {
      "cell_type": "markdown",
      "metadata": {
        "id": "view-in-github",
        "colab_type": "text"
      },
      "source": [
        "<a href=\"https://colab.research.google.com/github/franconoronha/treinamento-h2ia/blob/main/Semana_2_BuscasSemInformacao.ipynb\" target=\"_parent\"><img src=\"https://colab.research.google.com/assets/colab-badge.svg\" alt=\"Open In Colab\"/></a>"
      ]
    },
    {
      "cell_type": "markdown",
      "metadata": {
        "id": "21uUELma0562"
      },
      "source": [
        "# O Problema\n",
        "Sliding Puzzle - Bloco Deslizante"
      ]
    },
    {
      "cell_type": "code",
      "metadata": {
        "colab": {
          "base_uri": "https://localhost:8080/",
          "height": 218
        },
        "id": "duRbJW3rz01L",
        "outputId": "e1049773-9cf4-4b39-e026-e220c566311f"
      },
      "source": [
        "# !wget -qq https://miro.medium.com/max/700/1*W7jg4GmEjGBypd9WPktasQ.gif\n",
        "from IPython.display import Image\n",
        "Image(url='https://miro.medium.com/max/700/1*W7jg4GmEjGBypd9WPktasQ.gif',width=200)"
      ],
      "execution_count": null,
      "outputs": [
        {
          "output_type": "execute_result",
          "data": {
            "text/html": [
              "<img src=\"https://miro.medium.com/max/700/1*W7jg4GmEjGBypd9WPktasQ.gif\" width=\"200\"/>"
            ],
            "text/plain": [
              "<IPython.core.display.Image object>"
            ]
          },
          "metadata": {
            "tags": []
          },
          "execution_count": 5
        }
      ]
    },
    {
      "cell_type": "markdown",
      "metadata": {
        "id": "f6TPxqB-1Cwx"
      },
      "source": [
        "# Resolver o quebra-cabeças usando Buscas"
      ]
    },
    {
      "cell_type": "markdown",
      "source": [
        "Acabei por não utilizar o numpy, na minha cabeça fazia mais sentido representar os estados utilizando strings, já que pelos meus testes ocuparia menos memória. Porém não sei se vale a pena, visto que os arrays do numpy foram feitos para ter boa perfomance, e as strings do python são imutáveis e por isso dificultam um pouquinho a manipulação.\n",
        "\n",
        "Comparação de memória:"
      ],
      "metadata": {
        "id": "8pj_2nyZcHdh"
      }
    },
    {
      "cell_type": "code",
      "source": [
        "import numpy as np\n",
        "from sys import getsizeof\n",
        "string = \"123456789\"\n",
        "np_array = np.array([[1,2,3],[4,5,6],[7,8,9]])\n",
        "\n",
        "print(\"Tamanho de um string de 9 char: {} bytes\".format(getsizeof(string)))\n",
        "print(\"Tamanho de uma matriz numpy 3x3: {} bytes\".format(getsizeof(np_array)))"
      ],
      "metadata": {
        "colab": {
          "base_uri": "https://localhost:8080/"
        },
        "id": "q6lLxHLpXdXh",
        "outputId": "4e654db7-cfd7-49f6-b5b1-89b471540d3f"
      },
      "execution_count": 12,
      "outputs": [
        {
          "output_type": "stream",
          "name": "stdout",
          "text": [
            "Tamanho de um string de 9 char: 58 bytes\n",
            "Tamanho de uma matriz numpy 3x3: 192 bytes\n"
          ]
        }
      ]
    },
    {
      "cell_type": "markdown",
      "source": [
        "Importação de bibliotecas, definição de funções utilizadas e geração de um puzzle \"aleatório\"."
      ],
      "metadata": {
        "id": "gqGs1ZAgdBFt"
      }
    },
    {
      "cell_type": "code",
      "source": [
        "from collections import deque\n",
        "from random import seed, randint\n",
        "\n",
        "#seed(321)\n",
        "\n",
        "class Tree:\n",
        "    def __init__(self, data, parent):\n",
        "        self.children = []\n",
        "        self.data = data\n",
        "        self.parent = parent\n",
        "\n",
        "\"\"\" Representando o puzzle como uma string\n",
        "* representa o espaço vazio\n",
        "Movimentos possíveis\n",
        "(considerando que quem se move é o * e ele troca de lugar com a peça pra onde tá indo)\n",
        "- pra cima: -3 posições\n",
        "- pra baixo: +3 \n",
        "- pra direita: +1\n",
        "- pra esquerda: -1\n",
        "\n",
        "1.só é possível se (pos_atual + movimento) for maior ou igual a 0 e menor que len(puzzle)  \n",
        "2.não é possível mexer para esquerda na coluna da esquerda (posições 0, 3, 6 % 3 == 0)\n",
        "3.não é possível mexer para direita na coluna da direita (posições 2, 5, 8 % 3 == 2)\n",
        "\"\"\"\n",
        "\n",
        "def gerar_puzzle():\n",
        "  puzzle = \"\"\n",
        "  numeros = [\"1\", \"2\", \"3\", \"4\", \"5\", \"6\", \"7\", \"8\"]\n",
        "  for x in range(0, len(numeros)):\n",
        "    char = numeros.pop(randint(0, len(numeros) - 1))\n",
        "    puzzle += char\n",
        "  puzzle += '*'\n",
        "  return puzzle\n",
        "\n",
        "def get_movimentos_legais(puzzle):\n",
        "  ind = puzzle.find(\"*\")\n",
        "  moves = []\n",
        "  for x in [3, -3, 1, -1]:\n",
        "    if x == -1 and ind % 3 == 0:\n",
        "      continue\n",
        "    elif x == 1 and ind % 3 == 2:\n",
        "      continue\n",
        "    if((ind + x) < len(puzzle) and (ind + x) >= 0):\n",
        "      moves.append(x)\n",
        "  return moves\n",
        "\n",
        "def swap(puzzle, move):\n",
        "  index = puzzle.find('*')\n",
        "  move += index\n",
        "  p = list(puzzle)\n",
        "  p[index], p[move] = p[move], p[index]\n",
        "  return ''.join(p)\n",
        "\n",
        "solucao = \"12345678*\"\n",
        "puzzle = gerar_puzzle()\n",
        "print(\"Puzzle gerado: {}\".format(puzzle))"
      ],
      "metadata": {
        "colab": {
          "base_uri": "https://localhost:8080/"
        },
        "id": "NHbUpOJpXc6i",
        "outputId": "142b20a6-e572-441c-fdbc-7ac54a1785b1"
      },
      "execution_count": 19,
      "outputs": [
        {
          "output_type": "stream",
          "name": "stdout",
          "text": [
            "Puzzle gerado: 51326784*\n"
          ]
        }
      ]
    },
    {
      "cell_type": "markdown",
      "metadata": {
        "id": "o6ZClGCC1RxB"
      },
      "source": [
        "## Busca em largura"
      ]
    },
    {
      "cell_type": "code",
      "metadata": {
        "id": "cmJfg8CF0Jwc",
        "colab": {
          "base_uri": "https://localhost:8080/"
        },
        "outputId": "b1e2f00d-5313-43e5-eafc-4033cbcac51a"
      },
      "source": [
        "def busca_largura(puzzle):\n",
        "  global solucao\n",
        "  borda = deque()\n",
        "  visitados = set()\n",
        "  contador = 0\n",
        "\n",
        "  arvore = Tree(puzzle, None) # arvore de busca\n",
        "  visitados.add(puzzle)       # estados gerados/\"visitados\"\n",
        "  borda.append(arvore)\n",
        "\n",
        "  while len(borda) > 0:\n",
        "      atual = borda.popleft()\n",
        "      if atual.data == solucao:\n",
        "          break\n",
        "      moves = get_movimentos_legais(atual.data) \n",
        "      novos_estados = [swap(atual.data, x) for x in moves]\n",
        "\n",
        "      # Poderia pegar os estados diretos porém ficou bem confuso\n",
        "      #ind = atual.data.find(\"*\")\n",
        "      #novos_estados = [swap(atual.data, x) for x in [y for y in [3, -3 , 1, -1] if (ind + y) < len(atual.data) and (ind + y) >= 0]]\n",
        "      for estado in novos_estados:\n",
        "          if estado not in visitados:\n",
        "              contador += 1\n",
        "              novo_nodo = Tree(estado, atual)\n",
        "              #arvore.children.append(novo_nodo) \n",
        "              borda.append(novo_nodo)\n",
        "              visitados.add(estado) \n",
        "\n",
        "  if atual.data == solucao:\n",
        "      print(\"Solucionado.\")\n",
        "      #while atual != None:\n",
        "      #    print(atual.data)\n",
        "      #    atual = atual.parent\n",
        "  else:\n",
        "      print(\"Não existe uma solução\")\n",
        "  print(\"Estados gerados: {}\".format(contador))\n",
        "  print(\"Memoria: {} bytes\".format(getsizeof(arvore) + getsizeof(visitados)))\n",
        "\n",
        "busca_largura(puzzle)"
      ],
      "execution_count": 20,
      "outputs": [
        {
          "output_type": "stream",
          "name": "stdout",
          "text": [
            "Solucionado.\n",
            "Estados gerados: 32625\n",
            "Memoria: 2097448 bytes\n"
          ]
        }
      ]
    },
    {
      "cell_type": "markdown",
      "metadata": {
        "id": "zCCoey-J1U5t"
      },
      "source": [
        "## Busca em Profundidade"
      ]
    },
    {
      "cell_type": "markdown",
      "source": [
        "\n",
        "Utilizei a mesma função, só que implementei uma pilha com a double ended queue. Infelizmente ainda não consegui apagar os caminhos fechados, que seria a vantagem de se utilizar a busca em profundidade. Não sei se foi porque eu fiz de forma iterativa."
      ],
      "metadata": {
        "id": "qGPv4izvbtGr"
      }
    },
    {
      "cell_type": "code",
      "metadata": {
        "id": "XJkS_j3m8A4x",
        "colab": {
          "base_uri": "https://localhost:8080/"
        },
        "outputId": "763d2bec-6ce6-441d-98de-c8cf91b297c3"
      },
      "source": [
        "def busca_profundidade(puzzle):\n",
        "  global solucao\n",
        "  contador = 0\n",
        "  borda = deque()\n",
        "  visitados = set()\n",
        "\n",
        "  arvore = Tree(puzzle, None) # arvore de busca\n",
        "  visitados.add(puzzle)       # estados gerados/\"visitados\"\n",
        "  borda.append(arvore)\n",
        "\n",
        "  while len(borda) > 0:\n",
        "      atual = borda.pop()     # pop ao inves de popleft\n",
        "      if atual.data == solucao:\n",
        "          break\n",
        "      moves = get_movimentos_legais(atual.data) \n",
        "      novos_estados = [swap(atual.data, x) for x in moves]\n",
        "      for estado in novos_estados:\n",
        "          if estado not in visitados:\n",
        "              contador += 1\n",
        "              novo_nodo = Tree(estado, atual)\n",
        "              borda.append(novo_nodo)\n",
        "              visitados.add(estado)  \n",
        "\n",
        "  if atual.data == solucao:\n",
        "      print(\"Solucionado.\")\n",
        "  else:\n",
        "      print(\"Não existe uma solução\")\n",
        "      \n",
        "  print(\"Estados gerados: {}\".format(contador))\n",
        "  print(\"Memoria: {} bytes\".format(getsizeof(arvore) + getsizeof(visitados)))\n",
        "\n",
        "busca_profundidade(puzzle)"
      ],
      "execution_count": 21,
      "outputs": [
        {
          "output_type": "stream",
          "name": "stdout",
          "text": [
            "Solucionado.\n",
            "Estados gerados: 103972\n",
            "Memoria: 4194600 bytes\n"
          ]
        }
      ]
    },
    {
      "cell_type": "markdown",
      "metadata": {
        "id": "rXU5HkCd1ZPu"
      },
      "source": [
        "## Discorra sobre o desempenho dos métodos em questões de:\n",
        "\n",
        "\n",
        "1.   Consumo de memória\n",
        "2.   Processamento\n",
        "\n"
      ]
    },
    {
      "cell_type": "code",
      "metadata": {
        "id": "-M6rztKu1W1j"
      },
      "source": [
        ""
      ],
      "execution_count": null,
      "outputs": []
    }
  ]
}