{
  "nbformat": 4,
  "nbformat_minor": 0,
  "metadata": {
    "colab": {
      "name": "Semana_2_BuscasSemInformacao.ipynb",
      "provenance": [],
      "include_colab_link": true
    },
    "kernelspec": {
      "name": "python3",
      "display_name": "Python 3"
    },
    "language_info": {
      "name": "python"
    }
  },
  "cells": [
    {
      "cell_type": "markdown",
      "metadata": {
        "id": "view-in-github",
        "colab_type": "text"
      },
      "source": [
        "<a href=\"https://colab.research.google.com/github/franconoronha/treinamento-h2ia/blob/main/Semana_2_BuscasSemInformacao.ipynb\" target=\"_parent\"><img src=\"https://colab.research.google.com/assets/colab-badge.svg\" alt=\"Open In Colab\"/></a>"
      ]
    },
    {
      "cell_type": "markdown",
      "metadata": {
        "id": "21uUELma0562"
      },
      "source": [
        "# O Problema\n",
        "Sliding Puzzle - Bloco Deslizante"
      ]
    },
    {
      "cell_type": "code",
      "metadata": {
        "colab": {
          "base_uri": "https://localhost:8080/",
          "height": 218
        },
        "id": "duRbJW3rz01L",
        "outputId": "e1049773-9cf4-4b39-e026-e220c566311f"
      },
      "source": [
        "# !wget -qq https://miro.medium.com/max/700/1*W7jg4GmEjGBypd9WPktasQ.gif\n",
        "from IPython.display import Image\n",
        "Image(url='https://miro.medium.com/max/700/1*W7jg4GmEjGBypd9WPktasQ.gif',width=200)"
      ],
      "execution_count": null,
      "outputs": [
        {
          "output_type": "execute_result",
          "data": {
            "text/html": [
              "<img src=\"https://miro.medium.com/max/700/1*W7jg4GmEjGBypd9WPktasQ.gif\" width=\"200\"/>"
            ],
            "text/plain": [
              "<IPython.core.display.Image object>"
            ]
          },
          "metadata": {
            "tags": []
          },
          "execution_count": 5
        }
      ]
    },
    {
      "cell_type": "markdown",
      "metadata": {
        "id": "f6TPxqB-1Cwx"
      },
      "source": [
        "# Resolver o quebra-cabeças usando Buscas"
      ]
    },
    {
      "cell_type": "markdown",
      "source": [
        "Acabei por não utilizar o numpy, na minha cabeça fazia mais sentido representar os estados utilizando strings, já que pelos meus testes ocuparia menos memória. Porém não sei se vale a pena, visto que os arrays do numpy foram feitos para ter boa perfomance, e as strings do python são imutáveis e por isso dificultam um pouquinho a manipulação.\n",
        "\n",
        "Comparação de memória:"
      ],
      "metadata": {
        "id": "8pj_2nyZcHdh"
      }
    },
    {
      "cell_type": "code",
      "source": [
        "import numpy as np\n",
        "from sys import getsizeof\n",
        "string = \"123456789\"\n",
        "np_array = np.array([[1,2,3],[4,5,6],[7,8,9]])\n",
        "\n",
        "print(getsizeof(string))\n",
        "print(getsizeof(np_array))"
      ],
      "metadata": {
        "colab": {
          "base_uri": "https://localhost:8080/"
        },
        "id": "q6lLxHLpXdXh",
        "outputId": "4faa228c-dee0-485f-e3e6-48fe6fba8528"
      },
      "execution_count": 1,
      "outputs": [
        {
          "output_type": "stream",
          "name": "stdout",
          "text": [
            "58\n",
            "192\n"
          ]
        }
      ]
    },
    {
      "cell_type": "markdown",
      "source": [
        "Importação de bibliotecas, definição de funções utilizadas e geração de um puzzle \"aleatório\"."
      ],
      "metadata": {
        "id": "gqGs1ZAgdBFt"
      }
    },
    {
      "cell_type": "code",
      "source": [
        "from collections import deque\n",
        "from random import seed, randint\n",
        "\n",
        "#seed(321)\n",
        "\n",
        "class Tree:\n",
        "    def __init__(self, data, parent):\n",
        "        self.children = []\n",
        "        self.data = data\n",
        "        self.parent = parent\n",
        "\n",
        "\"\"\" Representando o puzzle como uma string\n",
        "Movimentos possíveis\n",
        "- pra cima: -3 posições\n",
        "- pra baixo: +3 \n",
        "- pra direita: +1\n",
        "- pra esquerda: -1\n",
        "só é possível se (pos_atual + movimento) for maior ou igual a 0 e menor que len(puzzle)  \n",
        "\"\"\"\n",
        "\n",
        "def gerar_puzzle():\n",
        "  puzzle = \"\"\n",
        "  numeros = [\"1\", \"2\", \"3\", \"4\", \"5\", \"6\", \"7\", \"8\"]\n",
        "  for x in range(0, len(numeros)):\n",
        "    char = numeros.pop(randint(0, len(numeros) - 1))\n",
        "    puzzle += char\n",
        "  puzzle += '*'\n",
        "  return puzzle\n",
        "\n",
        "def get_movimentos_legais(puzzle):\n",
        "  ind = puzzle.find(\"*\")\n",
        "  moves = []\n",
        "  for x in [3, -3, 1, -1]:\n",
        "    if((ind + x) < len(puzzle) and (ind + x) >= 0):\n",
        "      moves.append(x)\n",
        "  return moves\n",
        "\n",
        "def swap(puzzle, move):\n",
        "  index = puzzle.find('*')\n",
        "  move += index\n",
        "  p = list(puzzle)\n",
        "  p[index], p[move] = p[move], p[index]\n",
        "  return ''.join(p)\n",
        "\n",
        "solucao = \"12345678*\"\n",
        "puzzle = gerar_puzzle()\n",
        "print(puzzle)"
      ],
      "metadata": {
        "colab": {
          "base_uri": "https://localhost:8080/"
        },
        "id": "NHbUpOJpXc6i",
        "outputId": "89030b87-aa07-4cc0-e5ad-b3cd3760ebaf"
      },
      "execution_count": 8,
      "outputs": [
        {
          "output_type": "stream",
          "name": "stdout",
          "text": [
            "78645123*\n"
          ]
        }
      ]
    },
    {
      "cell_type": "markdown",
      "metadata": {
        "id": "o6ZClGCC1RxB"
      },
      "source": [
        "## Busca em largura"
      ]
    },
    {
      "cell_type": "code",
      "metadata": {
        "id": "cmJfg8CF0Jwc",
        "colab": {
          "base_uri": "https://localhost:8080/"
        },
        "outputId": "7ac1ca24-33a5-4b00-c5a1-eabc968c4b82"
      },
      "source": [
        "def busca_largura(puzzle):\n",
        "  global solucao\n",
        "  borda = deque()\n",
        "  visitados = set()\n",
        "  contador = 0\n",
        "\n",
        "  arvore = Tree(puzzle, None) # arvore de busca\n",
        "  visitados.add(puzzle)       # estados gerados/\"visitados\"\n",
        "  borda.append(arvore)\n",
        "\n",
        "  while len(borda) > 0:\n",
        "      atual = borda.popleft()\n",
        "      if atual.data == solucao:\n",
        "          break\n",
        "      moves = get_movimentos_legais(atual.data) \n",
        "      novos_estados = [swap(atual.data, x) for x in moves]\n",
        "\n",
        "      # Poderia pegar os estados diretos porém ficou bem confuso\n",
        "      #ind = atual.data.find(\"*\")\n",
        "      #novos_estados = [swap(atual.data, x) for x in [y for y in [3, -3 , 1, -1] if (ind + y) < len(atual.data) and (ind + y) >= 0]]\n",
        "      for estado in novos_estados:\n",
        "          if estado not in visitados:\n",
        "              contador += 1\n",
        "              novo_nodo = Tree(estado, atual)\n",
        "              #arvore.children.append(novo_nodo) \n",
        "              borda.append(novo_nodo)\n",
        "              visitados.add(estado) \n",
        "\n",
        "  if atual.data == solucao:\n",
        "      print(\"Solucionado.\")\n",
        "      #while atual != None:\n",
        "      #    print(atual.data)\n",
        "      #    atual = atual.parent\n",
        "  else:\n",
        "      print(\"Não existe uma solução\")\n",
        "  print(\"Estados gerados: {}\".format(contador))\n",
        "  print(\"Memoria: {} bytes\".format(getsizeof(arvore) + getsizeof(visitados)))\n",
        "\n",
        "busca_largura(puzzle)"
      ],
      "execution_count": 6,
      "outputs": [
        {
          "output_type": "stream",
          "name": "stdout",
          "text": [
            "Solucionado.\n",
            "Estados gerados: 118537\n",
            "Memoria: 4194600 bytes\n"
          ]
        }
      ]
    },
    {
      "cell_type": "markdown",
      "metadata": {
        "id": "zCCoey-J1U5t"
      },
      "source": [
        "## Busca em Profundidade"
      ]
    },
    {
      "cell_type": "markdown",
      "source": [
        "\n",
        "Utilizei a mesma função, só que implementei uma pilha com a double ended queue. Infelizmente ainda não consegui apagar os caminhos fechados, que seria a vantagem de se utilizar a busca em profundidade. Não sei se foi porque eu fiz de forma iterativa."
      ],
      "metadata": {
        "id": "qGPv4izvbtGr"
      }
    },
    {
      "cell_type": "code",
      "metadata": {
        "id": "XJkS_j3m8A4x",
        "colab": {
          "base_uri": "https://localhost:8080/"
        },
        "outputId": "44ac5910-c5ba-46a2-e3a4-428b65a3fb18"
      },
      "source": [
        "def busca_profundidade(puzzle):\n",
        "  global solucao\n",
        "  contador = 0\n",
        "  borda = deque()\n",
        "  visitados = set()\n",
        "\n",
        "  arvore = Tree(puzzle, None) # arvore de busca\n",
        "  visitados.add(puzzle)       # estados gerados/\"visitados\"\n",
        "  borda.append(arvore)\n",
        "\n",
        "  while len(borda) > 0:\n",
        "      atual = borda.pop()     # pop ao inves de popleft\n",
        "      if atual.data == solucao:\n",
        "          break\n",
        "      moves = get_movimentos_legais(atual.data) \n",
        "      novos_estados = [swap(atual.data, x) for x in moves]\n",
        "      for estado in novos_estados:\n",
        "          if estado not in visitados:\n",
        "              contador += 1\n",
        "              novo_nodo = Tree(estado, atual)\n",
        "              borda.append(novo_nodo)\n",
        "              visitados.add(estado)  \n",
        "\n",
        "  if atual.data == solucao:\n",
        "      print(\"Solucionado.\")\n",
        "  else:\n",
        "      print(\"Não existe uma solução\")\n",
        "      \n",
        "  print(\"Estados gerados: {}\".format(contador))\n",
        "  print(\"Memoria: {} bytes\".format(getsizeof(arvore) + getsizeof(visitados)))\n",
        "\n",
        "busca_profundidade(puzzle)"
      ],
      "execution_count": 7,
      "outputs": [
        {
          "output_type": "stream",
          "name": "stdout",
          "text": [
            "Solucionado.\n",
            "Estados gerados: 158323\n",
            "Memoria: 8388904 bytes\n"
          ]
        }
      ]
    },
    {
      "cell_type": "markdown",
      "metadata": {
        "id": "rXU5HkCd1ZPu"
      },
      "source": [
        "## Discorra sobre o desempenho dos métodos em questões de:\n",
        "\n",
        "\n",
        "1.   Consumo de memória\n",
        "2.   Processamento\n",
        "\n"
      ]
    },
    {
      "cell_type": "code",
      "metadata": {
        "id": "-M6rztKu1W1j"
      },
      "source": [
        ""
      ],
      "execution_count": null,
      "outputs": []
    }
  ]
}