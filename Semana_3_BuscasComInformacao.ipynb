{
  "nbformat": 4,
  "nbformat_minor": 0,
  "metadata": {
    "colab": {
      "name": "Semana_3_BuscasComInformacao.ipynb",
      "provenance": [],
      "include_colab_link": true
    },
    "kernelspec": {
      "name": "python3",
      "display_name": "Python 3"
    },
    "language_info": {
      "name": "python"
    }
  },
  "cells": [
    {
      "cell_type": "markdown",
      "metadata": {
        "id": "view-in-github",
        "colab_type": "text"
      },
      "source": [
        "<a href=\"https://colab.research.google.com/github/franconoronha/treinamento-h2ia/blob/main/Semana_3_BuscasComInformacao.ipynb\" target=\"_parent\"><img src=\"https://colab.research.google.com/assets/colab-badge.svg\" alt=\"Open In Colab\"/></a>"
      ]
    },
    {
      "cell_type": "markdown",
      "metadata": {
        "id": "21uUELma0562"
      },
      "source": [
        "# O Problema\n",
        "Sliding Puzzle - Bloco Deslizante"
      ]
    },
    {
      "cell_type": "code",
      "metadata": {
        "colab": {
          "base_uri": "https://localhost:8080/",
          "height": 218
        },
        "id": "duRbJW3rz01L",
        "outputId": "e1049773-9cf4-4b39-e026-e220c566311f"
      },
      "source": [
        "# !wget -qq https://miro.medium.com/max/700/1*W7jg4GmEjGBypd9WPktasQ.gif\n",
        "from IPython.display import Image\n",
        "Image(url='https://miro.medium.com/max/700/1*W7jg4GmEjGBypd9WPktasQ.gif',width=200)"
      ],
      "execution_count": null,
      "outputs": [
        {
          "output_type": "execute_result",
          "data": {
            "text/html": [
              "<img src=\"https://miro.medium.com/max/700/1*W7jg4GmEjGBypd9WPktasQ.gif\" width=\"200\"/>"
            ],
            "text/plain": [
              "<IPython.core.display.Image object>"
            ]
          },
          "metadata": {
            "tags": []
          },
          "execution_count": 5
        }
      ]
    },
    {
      "cell_type": "markdown",
      "metadata": {
        "id": "f6TPxqB-1Cwx"
      },
      "source": [
        "# Resolver o quebra-cabeças usando Busca Informada"
      ]
    },
    {
      "cell_type": "markdown",
      "source": [
        ""
      ],
      "metadata": {
        "id": "8pj_2nyZcHdh"
      }
    },
    {
      "cell_type": "code",
      "source": [
        "import numpy as np\n",
        "from random import seed, randint\n",
        "from heapq import heapify, heappush, heappop\n",
        "\n",
        "# Comentar a seed para ter um puzzle aleatório\n",
        "seed(77)\n",
        "# Seeds solucionáveis\n",
        "# 101, 24, 133, 2, 77\n",
        "\n",
        "class Tree:\n",
        "  def __init__(self, data, parent, move, g):\n",
        "    self.data = data\n",
        "    self.parent = parent\n",
        "    self.move = move\n",
        "    self.h = get_heuristica(data)\n",
        "    self.g = g\n",
        "\n",
        "class Tree_2: # Estrutura pra testar a heuristica 2\n",
        "  def __init__(self, data, parent, move, g):\n",
        "    self.data = data\n",
        "    self.parent = parent\n",
        "    self.move = move\n",
        "    self.h = get_heuristica_2(data)\n",
        "    self.g = g\n",
        "\n",
        "def gerar_puzzle(shape):\n",
        "  puzzle = np.zeros((shape,shape), dtype=np.int64)\n",
        "  numeros = [*range(1, (shape ** 2))]\n",
        "  for x in range(0, len(numeros)):\n",
        "    num = numeros.pop(randint(0, len(numeros) - 1))\n",
        "    puzzle[int(x / 3)][x % 3] = num\n",
        "\n",
        "  solucao = np.arange(1,shape**2 + 1).reshape((shape, shape))\n",
        "  solucao[shape-1][shape-1] = 0\n",
        "  return puzzle, solucao\n",
        "\n",
        "def get_heuristica(puzzle):\n",
        "  # Distância de Manhattan\n",
        "  h = 0\n",
        "  for coord, val in np.ndenumerate(puzzle):\n",
        "    if val == 0:\n",
        "      continue\n",
        "    val -=1   # Os \"nomes\" das peças começam em 0 e as posições no array em 0\n",
        "    d_h = abs(coord[1] - (val % 3))\n",
        "    d_v = abs(coord[0] - int(val / 3))\n",
        "    h += d_v + d_h\n",
        "  return h\n",
        "\n",
        "def get_heuristica_2(puzzle):\n",
        "  h = 0\n",
        "  for coord, val in np.ndenumerate(puzzle):\n",
        "    if val == 0:\n",
        "      continue\n",
        "    val -=1 \n",
        "    d_h = abs(coord[1] - (val % 3))\n",
        "    d_v = abs(coord[0] - int(val / 3))\n",
        "    if(d_h != 0 or d_v != 0) and val !=0: # se a peça não está no lugar correta\n",
        "      d = d_h + d_v                       # pega a distância\n",
        "      h += (d * 4)/val                    # atribui um peso (relativo a distância e a peça em questão)\n",
        "      # O peso da peça é inversamente proporcional a posição dela \n",
        "  return h\n",
        "\n",
        "def move(array_o, move):\n",
        "  array = np.copy(array_o) # se manter o original, ele efetua as mudanças fora da função\n",
        "  zero = np.argwhere(array == 0)[0]\n",
        "  new_row = zero[0] + move[0]\n",
        "  new_col = zero[1] + move[1]\n",
        "  if (new_row >= 0 and new_row < array.shape[0]) and (new_col >= 0 and new_col < array.shape[1]):\n",
        "    array[zero[0]][zero[1]], array[new_row][new_col] = array[new_row][new_col], array[zero[0]][zero[1]]\n",
        "    return (array, True)\n",
        "  else:\n",
        "    return (None, False)\n",
        "\n",
        "def gerar_estados(estado):\n",
        "  novos_estados = []\n",
        "  moves = [(0,1),(0,-1),(-1,0),(1,0)]\n",
        "  for m in moves:\n",
        "    novo_puzzle = move(estado.data, m)\n",
        "    if novo_puzzle[1]: \n",
        "      novos_estados.append({\n",
        "          \"estado\": novo_puzzle[0],\n",
        "          \"move\": m\n",
        "      })\n",
        "  return novos_estados\n",
        "\n",
        "puzzle, solucao = gerar_puzzle(3) # Gera puzzle e solução nxn\n",
        "print(\"Puzzle gerado: \\n{}\".format(puzzle))"
      ],
      "metadata": {
        "colab": {
          "base_uri": "https://localhost:8080/"
        },
        "id": "NHbUpOJpXc6i",
        "outputId": "46a0802e-ab5c-4e2f-b174-a9e5935c2672"
      },
      "execution_count": 120,
      "outputs": [
        {
          "output_type": "stream",
          "name": "stdout",
          "text": [
            "Puzzle gerado: \n",
            "[[5 3 2]\n",
            " [4 6 1]\n",
            " [8 7 0]]\n"
          ]
        }
      ]
    },
    {
      "cell_type": "markdown",
      "metadata": {
        "id": "o6ZClGCC1RxB"
      },
      "source": [
        "## A*"
      ]
    },
    {
      "cell_type": "code",
      "metadata": {
        "id": "cmJfg8CF0Jwc",
        "colab": {
          "base_uri": "https://localhost:8080/"
        },
        "outputId": "5a95cc7f-49dd-42ee-8d3c-b2c0ec87fb46"
      },
      "source": [
        "def aplica_resultado(puzzle_o, passos):\n",
        "  puzzle = np.copy(puzzle_o)\n",
        "  for p in passos:\n",
        "    puzzle = move(puzzle, p)[0]\n",
        "  return puzzle\n",
        "\n",
        "def a_estrela(puzzle):\n",
        "  global solucao\n",
        "  borda = []\n",
        "  heapify(borda)\n",
        "  gerados = set()\n",
        "  passos = []\n",
        "  arvore = Tree(puzzle, None, None, 0) # (data, parent, move, g)\n",
        "  heappush(borda, (arvore.g + arvore.h, id(arvore), arvore)) # id(unico) desempata em caso de f(n) iguais\n",
        "  gerados.add(puzzle.tobytes())    \n",
        "\n",
        "  while len(borda) > 0:\n",
        "      atual = heappop(borda)[2]\n",
        "      if np.array_equal(atual.data, solucao):\n",
        "          break\n",
        "      for estado in gerar_estados(atual):\n",
        "        if estado[\"estado\"].tobytes() not in gerados:\n",
        "          novo_nodo = Tree(estado[\"estado\"], atual, estado[\"move\"], atual.g + 1)\n",
        "          val = novo_nodo.g + novo_nodo.h\n",
        "          heappush(borda, (val, id(novo_nodo), novo_nodo))\n",
        "          gerados.add(novo_nodo.data.tobytes())\n",
        "\n",
        "  print(\"Estados gerados: {}\".format(len(gerados)))\n",
        "  while atual.parent != None:\n",
        "    passos.append(atual.move)\n",
        "    atual = atual.parent\n",
        "  return passos[::-1]\n",
        "\n",
        "resultado = a_estrela(puzzle)\n",
        "print(\"Nº de passos: {}\".format(len(resultado)))\n",
        "print(\"Aplicando passos no puzzle:\")\n",
        "print(aplica_resultado(puzzle, resultado))"
      ],
      "execution_count": 123,
      "outputs": [
        {
          "output_type": "stream",
          "name": "stdout",
          "text": [
            "Estados gerados: 1085\n",
            "Nº de passos: 22\n",
            "Aplicando passos no puzzle:\n",
            "[[1 2 3]\n",
            " [4 5 6]\n",
            " [7 8 0]]\n"
          ]
        }
      ]
    },
    {
      "cell_type": "markdown",
      "source": [
        "### Testando outra heuristica"
      ],
      "metadata": {
        "id": "5ojY_PyPHTp2"
      }
    },
    {
      "cell_type": "code",
      "source": [
        "def a_estrela_2(puzzle):\n",
        "  global solucao\n",
        "  borda = []\n",
        "  heapify(borda)\n",
        "  gerados = set()\n",
        "  passos = []\n",
        "  arvore = Tree_2(puzzle, None, None, 0) # (data, parent, move, g)\n",
        "  heappush(borda, (arvore.g + arvore.h, id(arvore), arvore)) # id(unico) desempata em caso de f(n) iguais\n",
        "  gerados.add(puzzle.tobytes())    \n",
        "\n",
        "  while len(borda) > 0:\n",
        "      atual = heappop(borda)[2]\n",
        "      if np.array_equal(atual.data, solucao):\n",
        "          break\n",
        "      for estado in gerar_estados(atual):\n",
        "        if estado[\"estado\"].tobytes() not in gerados:\n",
        "          novo_nodo = Tree_2(estado[\"estado\"], atual, estado[\"move\"], atual.g + 1)\n",
        "          val = novo_nodo.g + novo_nodo.h\n",
        "          heappush(borda, (val, id(novo_nodo), novo_nodo))\n",
        "          gerados.add(novo_nodo.data.tobytes())\n",
        "\n",
        "  print(\"Estados gerados: {}\".format(len(gerados)))\n",
        "  while atual.parent != None:\n",
        "    passos.append(atual.move)\n",
        "    atual = atual.parent\n",
        "  return passos[::-1]\n",
        "\n",
        "resultado = a_estrela_2(puzzle)\n",
        "print(\"Nº de passos: {}\".format(len(resultado)))\n",
        "print(\"Aplicando passos no puzzle:\")\n",
        "print(aplica_resultado(puzzle, resultado))"
      ],
      "metadata": {
        "colab": {
          "base_uri": "https://localhost:8080/"
        },
        "id": "05OGBvcEHT8m",
        "outputId": "109729fe-b8c1-46c0-bc9d-4f79de9b77a8"
      },
      "execution_count": 122,
      "outputs": [
        {
          "output_type": "stream",
          "name": "stdout",
          "text": [
            "Estados gerados: 2199\n",
            "Nº de passos: 24\n",
            "Aplicando passos no puzzle:\n",
            "[[1 2 3]\n",
            " [4 5 6]\n",
            " [7 8 0]]\n"
          ]
        }
      ]
    }
  ]
}