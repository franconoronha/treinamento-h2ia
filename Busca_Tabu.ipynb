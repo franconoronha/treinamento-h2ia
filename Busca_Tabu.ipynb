{
  "nbformat": 4,
  "nbformat_minor": 0,
  "metadata": {
    "colab": {
      "name": "Busca_Tabu.ipynb",
      "provenance": [],
      "authorship_tag": "ABX9TyPLevqfmP77VG0bDvRXxcEm",
      "include_colab_link": true
    },
    "kernelspec": {
      "name": "python3",
      "display_name": "Python 3"
    },
    "language_info": {
      "name": "python"
    }
  },
  "cells": [
    {
      "cell_type": "markdown",
      "metadata": {
        "id": "view-in-github",
        "colab_type": "text"
      },
      "source": [
        "<a href=\"https://colab.research.google.com/github/franconoronha/treinamento-h2ia/blob/main/Busca_Tabu.ipynb\" target=\"_parent\"><img src=\"https://colab.research.google.com/assets/colab-badge.svg\" alt=\"Open In Colab\"/></a>"
      ]
    },
    {
      "cell_type": "markdown",
      "source": [
        "# Busca Tabu"
      ],
      "metadata": {
        "id": "YrxB4LYzBaUk"
      }
    },
    {
      "cell_type": "markdown",
      "source": [
        "## Problema da Mochila\n",
        "![imagem_2022-05-31_212348757.png](data:image/png;base64,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)"
      ],
      "metadata": {
        "id": "v4wRf0szpRYY"
      }
    },
    {
      "cell_type": "code",
      "execution_count": 2,
      "metadata": {
        "id": "npGkvmDwBRKN"
      },
      "outputs": [],
      "source": [
        "import numpy as np\n",
        "\n",
        "rng = np.random.default_rng()\n",
        "pesos = np.array([63,21,2,32,13,80,19,37,56,41,14,8,32,42,7])\n",
        "valores = np.array([13,2,20,10,7,14,7,2,2,4,16,17,17,3,21])\n",
        "\n",
        "class Mochila:\n",
        "  def __init__(self, objetos):\n",
        "    self.objetos = objetos\n",
        "    self.peso = np.sum(pesos * objetos)\n",
        "    self.valor = np.sum(valores * objetos)"
      ]
    },
    {
      "cell_type": "code",
      "source": [
        "objetos = rng.integers(2, size=15) # Preenche a mochila com itens aleatórios\n",
        "mochila = Mochila(objetos)\n",
        "while mochila.peso > 275:\n",
        "  mochila = Mochila(rng.integers(2, size=15)) # Caso gere uma mochila acima do limite\n",
        "\n",
        "print(f\"Mochila gerada: {mochila.objetos}\")\n",
        "print(f\"Peso: {mochila.peso}\")\n",
        "print(f\"Valor: {mochila.valor}\")"
      ],
      "metadata": {
        "colab": {
          "base_uri": "https://localhost:8080/"
        },
        "id": "ss3yTVdaPXI5",
        "outputId": "02fbf425-ea9d-4a24-b723-dfe08013ee15"
      },
      "execution_count": 8,
      "outputs": [
        {
          "output_type": "stream",
          "name": "stdout",
          "text": [
            "Mochila gerada: [0 0 1 0 1 1 0 0 0 1 1 0 0 1 1]\n",
            "Peso: 199\n",
            "Valor: 85\n"
          ]
        }
      ]
    },
    {
      "cell_type": "code",
      "source": [
        "max_iteracoes = 1000\n",
        "turnos_proibidos = 10\n",
        "lista_tabu = []\n",
        "\n",
        "def verifica_lista_tabu(estado):\n",
        "  for x in lista_tabu:\n",
        "    if np.array_equal(x[0], estado):\n",
        "      return True\n",
        "  return False\n",
        "\n",
        "def gera_prox_estado(mochila):\n",
        "  vizinhos = []\n",
        "  valores_vizinhos = []\n",
        "  for pos_1, x_1 in np.ndenumerate(mochila.objetos):\n",
        "    if x_1 == 0:\n",
        "      # tenta adicionar esse item\n",
        "      novo_estado = np.copy(mochila.objetos)\n",
        "      novo_estado[pos_1] = 1\n",
        "      nova_mochila = Mochila(novo_estado)\n",
        "      if nova_mochila.peso <= 275:\n",
        "        if not verifica_lista_tabu(novo_estado):\n",
        "          vizinhos.append(nova_mochila)\n",
        "          valores_vizinhos.append(nova_mochila.valor)\n",
        "      #else:\n",
        "      for pos_2, x_2 in np.ndenumerate(mochila.objetos):\n",
        "        # tenta trocar com os itens que estão na mochila\n",
        "        if x_2 == 1:\n",
        "          novo_estado = np.copy(mochila.objetos)\n",
        "          novo_estado[pos_2] = 0\n",
        "          novo_estado[pos_1] = 1\n",
        "          nova_mochila = Mochila(novo_estado)\n",
        "          if nova_mochila.peso <= 275:\n",
        "            if not verifica_lista_tabu(novo_estado):\n",
        "              vizinhos.append(nova_mochila)\n",
        "              valores_vizinhos.append(nova_mochila.valor)\n",
        "              \n",
        "  melhor = vizinhos[np.argmax(valores_vizinhos)]\n",
        "  return melhor\n",
        "\n",
        "def busca_tabu(mochila):\n",
        "  melhor_estado = mochila\n",
        "  estado_atual = mochila\n",
        "  for x in range(0, max_iteracoes):\n",
        "    \n",
        "    for p in lista_tabu:\n",
        "      p[1] -= 1\n",
        "      if p[1] == 0:\n",
        "        lista_tabu.remove(p)\n",
        "\n",
        "    estado_atual = gera_prox_estado(estado_atual)\n",
        "\n",
        "\n",
        "    lista_tabu.append([estado_atual.objetos, turnos_proibidos])\n",
        "    if(estado_atual.valor > melhor_estado.valor):\n",
        "      melhor_estado = estado_atual\n",
        "\n",
        "  return melhor_estado"
      ],
      "metadata": {
        "id": "Mu_Ruco8UDqO"
      },
      "execution_count": 50,
      "outputs": []
    },
    {
      "cell_type": "code",
      "source": [
        "resultado = busca_tabu(mochila)\n",
        "print(resultado.objetos)\n",
        "print(resultado.peso)\n",
        "print(resultado.valor)"
      ],
      "metadata": {
        "id": "ei3hKCh82_b2",
        "colab": {
          "base_uri": "https://localhost:8080/"
        },
        "outputId": "6aa4ce33-ae78-497a-a953-b9d8285238a4"
      },
      "execution_count": 52,
      "outputs": [
        {
          "output_type": "stream",
          "name": "stdout",
          "text": [
            "[1 0 1 1 1 1 1 0 0 0 1 1 1 0 1]\n",
            "270\n",
            "142\n"
          ]
        }
      ]
    }
  ]
}